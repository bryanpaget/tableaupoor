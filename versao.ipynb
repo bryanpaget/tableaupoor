{
 "cells": [
  {
   "cell_type": "code",
   "execution_count": 3,
   "metadata": {},
   "outputs": [
    {
     "name": "stdout",
     "output_type": "stream",
     "text": [
      "PyGWalker Version: 0.1.7\n",
      "Streamlit Version: 1.26.0\n",
      "Pandas Version: 1.5.3\n",
      "SQLAlchemy Version: 1.4.39\n",
      "mysql-connector Version: 8.0.32\n",
      "PyMsSQL Version: 2.2.9\n"
     ]
    }
   ],
   "source": [
    "import pygwalker\n",
    "import streamlit\n",
    "import pandas\n",
    "import sqlalchemy\n",
    "import mysql.connector\n",
    "import pymssql\n",
    "\n",
    "print(f\"PyGWalker Version: {pygwalker.__version__}\")\n",
    "print(f\"Streamlit Version: {streamlit.__version__}\")\n",
    "print(f\"Pandas Version: {pandas.__version__}\")\n",
    "print(f\"SQLAlchemy Version: {sqlalchemy.__version__}\")\n",
    "print(f\"mysql-connector Version: {mysql.connector.__version__}\")\n",
    "print(f\"PyMsSQL Version: {pymssql.__version__}\")\n"
   ]
  },
  {
   "cell_type": "code",
   "execution_count": null,
   "metadata": {},
   "outputs": [],
   "source": []
  }
 ],
 "metadata": {
  "kernelspec": {
   "display_name": "base",
   "language": "python",
   "name": "python3"
  },
  "language_info": {
   "codemirror_mode": {
    "name": "ipython",
    "version": 3
   },
   "file_extension": ".py",
   "mimetype": "text/x-python",
   "name": "python",
   "nbconvert_exporter": "python",
   "pygments_lexer": "ipython3",
   "version": "3.10.4"
  }
 },
 "nbformat": 4,
 "nbformat_minor": 2
}
